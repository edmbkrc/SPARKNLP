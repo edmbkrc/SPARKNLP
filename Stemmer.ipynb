{
  "nbformat": 4,
  "nbformat_minor": 0,
  "metadata": {
    "colab": {
      "provenance": []
    },
    "kernelspec": {
      "name": "python3",
      "display_name": "Python 3"
    },
    "language_info": {
      "name": "python"
    }
  },
  "cells": [
    {
      "cell_type": "code",
      "execution_count": 1,
      "metadata": {
        "colab": {
          "base_uri": "https://localhost:8080/"
        },
        "id": "2a5LOwGWYVSR",
        "outputId": "afae18db-79dc-459c-9e7f-42b8a62e213f"
      },
      "outputs": [
        {
          "output_type": "stream",
          "name": "stdout",
          "text": [
            "\u001b[2K     \u001b[90m━━━━━━━━━━━━━━━━━━━━━━━━━━━━━━━━━━━━━━━━\u001b[0m \u001b[32m317.3/317.3 MB\u001b[0m \u001b[31m4.7 MB/s\u001b[0m eta \u001b[36m0:00:00\u001b[0m\n",
            "\u001b[?25h  Preparing metadata (setup.py) ... \u001b[?25l\u001b[?25hdone\n",
            "\u001b[2K     \u001b[90m━━━━━━━━━━━━━━━━━━━━━━━━━━━━━━━━━━━━━━━━\u001b[0m \u001b[32m55.6/55.6 kB\u001b[0m \u001b[31m1.8 MB/s\u001b[0m eta \u001b[36m0:00:00\u001b[0m\n",
            "\u001b[2K   \u001b[90m━━━━━━━━━━━━━━━━━━━━━━━━━━━━━━━━━━━━━━━━\u001b[0m \u001b[32m579.5/579.5 kB\u001b[0m \u001b[31m22.1 MB/s\u001b[0m eta \u001b[36m0:00:00\u001b[0m\n",
            "\u001b[?25h  Building wheel for pyspark (setup.py) ... \u001b[?25l\u001b[?25hdone\n"
          ]
        }
      ],
      "source": [
        "!pip install -q pyspark spark-nlp"
      ]
    },
    {
      "cell_type": "code",
      "source": [
        "\n",
        "import sparknlp\n",
        "from sparknlp.base import DocumentAssembler, LightPipeline, Pipeline\n",
        "from sparknlp.annotator import Tokenizer, Stemmer\n",
        "\n",
        "spark = sparknlp.start()"
      ],
      "metadata": {
        "id": "G6fzps-AYkNj"
      },
      "execution_count": 2,
      "outputs": []
    },
    {
      "cell_type": "code",
      "source": [
        "documentAssembler = DocumentAssembler()\\\n",
        "    .setInputCol(\"text\")\\\n",
        "    .setOutputCol(\"document\")\n",
        "\n",
        "tokenizer = Tokenizer() \\\n",
        "    .setInputCols([\"document\"]) \\\n",
        "    .setOutputCol(\"token\")\n",
        "\n",
        "stemmer = Stemmer() \\\n",
        "    .setInputCols([\"token\"]) \\\n",
        "    .setOutputCol(\"stem\")\n",
        "\n",
        "nlpPipeline = Pipeline(stages=[documentAssembler,\n",
        "                               tokenizer,\n",
        "                               stemmer])\n",
        "\n",
        "sample_texts = [[\"I love working with SparkNLP.\"],\n",
        "        [\"I am living in Canada.\"]]\n",
        "\n",
        "data = spark.createDataFrame(sample_texts).toDF(\"text\")\n",
        "\n",
        "model = nlpPipeline.fit(data)\n",
        "\n",
        "result = model.transform(data)\n",
        "\n",
        "result.show(truncate=40)"
      ],
      "metadata": {
        "colab": {
          "base_uri": "https://localhost:8080/"
        },
        "id": "V8dm3MovYxyu",
        "outputId": "3d0e378a-ca01-4c2d-c0c2-f6060b1030c4"
      },
      "execution_count": 3,
      "outputs": [
        {
          "output_type": "stream",
          "name": "stdout",
          "text": [
            "+-----------------------------+----------------------------------------+----------------------------------------+----------------------------------------+\n",
            "|                         text|                                document|                                   token|                                    stem|\n",
            "+-----------------------------+----------------------------------------+----------------------------------------+----------------------------------------+\n",
            "|I love working with SparkNLP.|[{document, 0, 28, I love working wit...|[{token, 0, 0, I, {sentence -> 0}, []...|[{token, 0, 0, i, {sentence -> 0}, []...|\n",
            "|       I am living in Canada.|[{document, 0, 21, I am living in Can...|[{token, 0, 0, I, {sentence -> 0}, []...|[{token, 0, 0, i, {sentence -> 0}, []...|\n",
            "+-----------------------------+----------------------------------------+----------------------------------------+----------------------------------------+\n",
            "\n"
          ]
        }
      ]
    },
    {
      "cell_type": "code",
      "source": [
        "result.select(\"text\",\"token.result\",\"stem.result\").show(truncate=40)"
      ],
      "metadata": {
        "colab": {
          "base_uri": "https://localhost:8080/"
        },
        "id": "zYge_dUAZmN5",
        "outputId": "a069841f-ba90-4205-91d8-8bf5482415bc"
      },
      "execution_count": 6,
      "outputs": [
        {
          "output_type": "stream",
          "name": "stdout",
          "text": [
            "+-----------------------------+-------------------------------------+----------------------------------+\n",
            "|                         text|                               result|                            result|\n",
            "+-----------------------------+-------------------------------------+----------------------------------+\n",
            "|I love working with SparkNLP.|[I, love, working, with, SparkNLP, .]|[i, love, work, with, sparknlp, .]|\n",
            "|       I am living in Canada.|       [I, am, living, in, Canada, .]|      [i, am, live, in, canada, .]|\n",
            "+-----------------------------+-------------------------------------+----------------------------------+\n",
            "\n"
          ]
        }
      ]
    },
    {
      "cell_type": "markdown",
      "source": [
        "## Usage with LightPipeline"
      ],
      "metadata": {
        "id": "DaJkRJBSaGIN"
      }
    },
    {
      "cell_type": "code",
      "source": [
        "light_pipeline = LightPipeline(model)"
      ],
      "metadata": {
        "id": "jvtfIBigZxby"
      },
      "execution_count": 7,
      "outputs": []
    },
    {
      "cell_type": "code",
      "source": [
        "light_pipeline.annotate(\"I love working with SparkNLP.\")[\"stem\"]"
      ],
      "metadata": {
        "colab": {
          "base_uri": "https://localhost:8080/"
        },
        "id": "o5F-xSDnaSb-",
        "outputId": "d7fa03c8-7fc3-4b21-9eeb-1f5302f1df64"
      },
      "execution_count": 8,
      "outputs": [
        {
          "output_type": "execute_result",
          "data": {
            "text/plain": [
              "['i', 'love', 'work', 'with', 'sparknlp', '.']"
            ]
          },
          "metadata": {},
          "execution_count": 8
        }
      ]
    },
    {
      "cell_type": "code",
      "source": [
        "light_pipeline.fullAnnotate(\"I love working with SparkNLP.\")[0][\"stem\"]"
      ],
      "metadata": {
        "colab": {
          "base_uri": "https://localhost:8080/"
        },
        "id": "tOd0ZVVjacHL",
        "outputId": "c8aea3ca-f1d2-458e-c385-0c069899cda8"
      },
      "execution_count": 10,
      "outputs": [
        {
          "output_type": "execute_result",
          "data": {
            "text/plain": [
              "[Annotation(token, 0, 0, i, {'sentence': '0'}, []),\n",
              " Annotation(token, 2, 5, love, {'sentence': '0'}, []),\n",
              " Annotation(token, 7, 13, work, {'sentence': '0'}, []),\n",
              " Annotation(token, 15, 18, with, {'sentence': '0'}, []),\n",
              " Annotation(token, 20, 27, sparknlp, {'sentence': '0'}, []),\n",
              " Annotation(token, 28, 28, ., {'sentence': '0'}, [])]"
            ]
          },
          "metadata": {},
          "execution_count": 10
        }
      ]
    }
  ]
}