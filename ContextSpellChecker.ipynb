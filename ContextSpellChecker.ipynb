{
  "cells": [
    {
      "cell_type": "code",
      "execution_count": null,
      "metadata": {
        "colab": {
          "base_uri": "https://localhost:8080/"
        },
        "id": "x7mdyAEezkca",
        "outputId": "8acc70ed-1be0-49dc-f34f-b2184d030dad"
      },
      "outputs": [
        {
          "name": "stdout",
          "output_type": "stream",
          "text": [
            "\u001b[2K     \u001b[90m━━━━━━━━━━━━━━━━━━━━━━━━━━━━━━━━━━━━━━━━\u001b[0m \u001b[32m317.3/317.3 MB\u001b[0m \u001b[31m2.7 MB/s\u001b[0m eta \u001b[36m0:00:00\u001b[0m\n",
            "\u001b[?25h  Preparing metadata (setup.py) ... \u001b[?25l\u001b[?25hdone\n",
            "\u001b[2K     \u001b[90m━━━━━━━━━━━━━━━━━━━━━━━━━━━━━━━━━━━━━━━━\u001b[0m \u001b[32m55.6/55.6 kB\u001b[0m \u001b[31m4.5 MB/s\u001b[0m eta \u001b[36m0:00:00\u001b[0m\n",
            "\u001b[2K   \u001b[90m━━━━━━━━━━━━━━━━━━━━━━━━━━━━━━━━━━━━━━━━\u001b[0m \u001b[32m579.5/579.5 kB\u001b[0m \u001b[31m35.4 MB/s\u001b[0m eta \u001b[36m0:00:00\u001b[0m\n",
            "\u001b[?25h  Building wheel for pyspark (setup.py) ... \u001b[?25l\u001b[?25hdone\n"
          ]
        }
      ],
      "source": [
        "!pip install -q pyspark spark-nlp"
      ]
    },
    {
      "cell_type": "code",
      "execution_count": null,
      "metadata": {
        "id": "Fy8WgO2lzuK4"
      },
      "outputs": [],
      "source": [
        "import pandas as pd\n",
        "\n",
        "from pyspark.sql import functions as F\n",
        "from pyspark.ml import Pipeline\n",
        "from pyspark.sql.functions import array_contains\n",
        "\n",
        "import sparknlp\n",
        "from sparknlp.annotator import (\n",
        "    Tokenizer,\n",
        "    ContextSpellCheckerModel,\n",
        "    ContextSpellCheckerApproach,\n",
        "    SentenceDetector,\n",
        "    NorvigSweetingModel,\n",
        "    SymmetricDeleteModel,\n",
        ")\n",
        "from sparknlp.common import RegexRule\n",
        "from sparknlp.base import DocumentAssembler, LightPipeline"
      ]
    },
    {
      "cell_type": "code",
      "execution_count": null,
      "metadata": {
        "colab": {
          "base_uri": "https://localhost:8080/"
        },
        "id": "b5hI2cGnupxP",
        "outputId": "2dd4cf70-5a7c-4343-e212-6982e73112f9"
      },
      "outputs": [
        {
          "name": "stdout",
          "output_type": "stream",
          "text": [
            "Spark NLP version:  5.4.2\n",
            "Apache Spark version:  3.5.2\n"
          ]
        }
      ],
      "source": [
        "spark = sparknlp.start()\n",
        "\n",
        "print(\"Spark NLP version: \", sparknlp.version())\n",
        "print(\"Apache Spark version: \", spark.version)"
      ]
    },
    {
      "cell_type": "code",
      "execution_count": null,
      "metadata": {
        "id": "sOBMK7JIvLLz"
      },
      "outputs": [],
      "source": [
        "example_sentence = \"Plaese alliow me tao introdduce myhelf, I am a man of waelht und tiaste\""
      ]
    },
    {
      "cell_type": "code",
      "execution_count": null,
      "metadata": {
        "id": "TttnIIiz2rPh"
      },
      "outputs": [],
      "source": [
        "def get_light_pipeline(spellModel):\n",
        "  documentAssembler = DocumentAssembler().setInputCol(\"text\").setOutputCol(\"document\")\n",
        "\n",
        "  tokenizer = Tokenizer().setInputCols(\"document\").setOutputCol(\"token\")\n",
        "  pipeline = Pipeline(stages=[documentAssembler, tokenizer, spellModel])\n",
        "\n",
        "  empty_ds = spark.createDataFrame([[\"\"]]).toDF(\"text\")\n",
        "  lp = LightPipeline(pipeline.fit(empty_ds))\n",
        "  return lp\n",
        "\n"
      ]
    },
    {
      "cell_type": "code",
      "execution_count": null,
      "metadata": {
        "colab": {
          "background_save": true,
          "base_uri": "https://localhost:8080/"
        },
        "id": "m3BY4gkt4u4o",
        "outputId": "2fdecc4e-057c-4cd5-8062-be43d3c0d7fb"
      },
      "outputs": [
        {
          "name": "stdout",
          "output_type": "stream",
          "text": [
            "spellcheck_dl download started this may take some time.\n",
            "Approximate size to download 95.1 MB\n",
            "[OK!]\n"
          ]
        }
      ],
      "source": [
        "documentAssembler = DocumentAssembler().setInputCol(\"text\").setOutputCol(\"document\")\n",
        "\n",
        "tokenizer = Tokenizer().setInputCols(\"document\").setOutputCol(\"token\")\n",
        "\n",
        "spellModel = (\n",
        "    ContextSpellCheckerModel.pretrained(\"spellcheck_dl\")\n",
        "    .setInputCols(\"token\")\n",
        "    .setOutputCol(\"checked\")\n",
        "    )\n",
        "\n",
        "pipeline = Pipeline(stages=[documentAssembler, tokenizer, spellModel])\n",
        "\n",
        "empty_ds = spark.createDataFrame([[\"\"]]).toDF(\"text\")\n",
        "lp = LightPipeline(pipeline.fit(empty_ds))"
      ]
    },
    {
      "cell_type": "code",
      "execution_count": null,
      "metadata": {
        "colab": {
          "background_save": true
        },
        "id": "1MosFaeJ4z15",
        "outputId": "fdc39eb3-cba7-4217-a932-b3c4276ebea6"
      },
      "outputs": [
        {
          "data": {
            "text/plain": [
              "['(_NAME_,VocabParser)',\n",
              " '(_DATE_,RegexParser)',\n",
              " '(_LOC_,VocabParser)',\n",
              " '(_NUM_,RegexParser)']"
            ]
          },
          "execution_count": 7,
          "metadata": {},
          "output_type": "execute_result"
        }
      ],
      "source": [
        "spellModel.getWordClasses()"
      ]
    },
    {
      "cell_type": "code",
      "execution_count": null,
      "metadata": {
        "colab": {
          "background_save": true
        },
        "id": "MiAsEZJk7GRL",
        "outputId": "b77fff36-f403-4d31-d835-29d49fb6bea0"
      },
      "outputs": [
        {
          "data": {
            "text/plain": [
              "SPELL_eaf90fb024f0"
            ]
          },
          "execution_count": 8,
          "metadata": {},
          "output_type": "execute_result"
        }
      ],
      "source": [
        "spellModel.setOutputCol(\"checked\")"
      ]
    },
    {
      "cell_type": "code",
      "execution_count": null,
      "metadata": {
        "colab": {
          "background_save": true
        },
        "id": "Hc9lPf1-7PMM",
        "outputId": "999f9751-9bee-4262-b20c-a56ed6d60b87"
      },
      "outputs": [
        {
          "data": {
            "text/plain": [
              "5"
            ]
          },
          "execution_count": 9,
          "metadata": {},
          "output_type": "execute_result"
        }
      ],
      "source": [
        "spellModel.getMaxWindowLen()"
      ]
    },
    {
      "cell_type": "code",
      "execution_count": null,
      "metadata": {
        "colab": {
          "background_save": true
        },
        "id": "s6OHWK_97WFG",
        "outputId": "ccc3834e-b345-41b0-cd2c-ae6c7f07db93"
      },
      "outputs": [
        {
          "data": {
            "text/plain": [
              "2"
            ]
          },
          "execution_count": 10,
          "metadata": {},
          "output_type": "execute_result"
        }
      ],
      "source": [
        "spellModel.getCaseStrategy()"
      ]
    },
    {
      "cell_type": "code",
      "execution_count": null,
      "metadata": {
        "colab": {
          "background_save": true
        },
        "id": "PrHaz61g-RIc",
        "outputId": "44dfbe45-93e3-4342-e403-e83c7eb58545"
      },
      "outputs": [
        {
          "data": {
            "text/plain": [
              "3"
            ]
          },
          "execution_count": 11,
          "metadata": {},
          "output_type": "execute_result"
        }
      ],
      "source": [
        "spellModel.getWordMaxDistance()"
      ]
    },
    {
      "cell_type": "code",
      "execution_count": null,
      "metadata": {
        "colab": {
          "background_save": true
        },
        "id": "ckE45LnO7cBm",
        "outputId": "ce16754f-0d9e-4e26-c90f-4b7bac583b06"
      },
      "outputs": [
        {
          "name": "stdout",
          "output_type": "stream",
          "text": [
            "['Please', 'allow', 'me', 'to', 'introduce', 'myself', ',', 'I', 'am', 'a', 'man', 'of', 'wealth', 'and', 'taste']\n"
          ]
        }
      ],
      "source": [
        "result = lp.annotate(example_sentence)\n",
        "print(result[\"checked\"])"
      ]
    },
    {
      "cell_type": "code",
      "execution_count": null,
      "metadata": {
        "colab": {
          "background_save": true
        },
        "id": "7jIcnUGo8i3d",
        "outputId": "f3736fd1-ac48-4bd0-efb6-15072707a985"
      },
      "outputs": [
        {
          "name": "stdout",
          "output_type": "stream",
          "text": [
            "{'document': ['Plaese alliow me tao introdduce myhelf, I am a man of waelht und tiaste'], 'token': ['Plaese', 'alliow', 'me', 'tao', 'introdduce', 'myhelf', ',', 'I', 'am', 'a', 'man', 'of', 'waelht', 'und', 'tiaste'], 'checked': ['Please', 'allow', 'me', 'to', 'introduce', 'myself', ',', 'I', 'am', 'a', 'man', 'of', 'wealth', 'and', 'taste']}\n"
          ]
        }
      ],
      "source": [
        "print(result)"
      ]
    },
    {
      "cell_type": "code",
      "execution_count": null,
      "metadata": {
        "colab": {
          "background_save": true
        },
        "id": "TZyz7RsJ8rJ1",
        "outputId": "32263f2e-96e2-4968-9272-6e0b65aebeb3"
      },
      "outputs": [
        {
          "name": "stdout",
          "output_type": "stream",
          "text": [
            "Plaese -> Please\n",
            "alliow -> allow\n",
            "me -> me\n",
            "tao -> to\n",
            "introdduce -> introduce\n",
            "myhelf -> myself\n",
            ", -> ,\n",
            "I -> I\n",
            "am -> am\n",
            "a -> a\n",
            "man -> man\n",
            "of -> of\n",
            "waelht -> wealth\n",
            "und -> and\n",
            "tiaste -> taste\n"
          ]
        }
      ],
      "source": [
        "for token, checked in zip(result[\"token\"], result[\"checked\"]):\n",
        "  print(f\"{token} -> {checked}\")"
      ]
    },
    {
      "cell_type": "code",
      "execution_count": null,
      "metadata": {
        "colab": {
          "background_save": true
        },
        "id": "05w3qGPN9I5z",
        "outputId": "51555031-5400-43e4-cb10-b398d894a885"
      },
      "outputs": [
        {
          "name": "stdout",
          "output_type": "stream",
          "text": [
            "spellcheck_dl download started this may take some time.\n",
            "Approximate size to download 95.1 MB\n",
            "[OK!]\n",
            "Plaese -> Please\n",
            "alliow -> allow\n",
            "me -> me\n",
            "tao -> tao\n",
            "introdduce -> introduce\n",
            "myhelf -> myself\n",
            ", -> ,\n",
            "I -> I\n",
            "am -> am\n",
            "a -> a\n",
            "man -> man\n",
            "of -> of\n",
            "waelht -> waelht\n",
            "und -> und\n",
            "tiaste -> taste\n"
          ]
        }
      ],
      "source": [
        "spellModel_modified = (\n",
        "    ContextSpellCheckerModel.pretrained(\"spellcheck_dl\")\n",
        "    .setInputCols(\"token\")\n",
        "    .setOutputCol(\"checked\")\n",
        "    .setWordMaxDistance(1)\n",
        ")\n",
        "\n",
        "lp = get_light_pipeline(spellModel_modified)\n",
        "result = lp.annotate(example_sentence)\n",
        "\n",
        "for token, checked in zip(result[\"token\"], result[\"checked\"]):\n",
        "  print(f\"{token} -> {checked}\")"
      ]
    },
    {
      "cell_type": "markdown",
      "metadata": {
        "id": "N--ahp0bBHhx"
      },
      "source": [
        "## Training a context-aware spell checker"
      ]
    },
    {
      "cell_type": "code",
      "execution_count": null,
      "metadata": {
        "colab": {
          "background_save": true
        },
        "id": "bOCwYPRJ-txw"
      },
      "outputs": [],
      "source": [
        "! wget -q https://raw.githubusercontent.com/JohnSnowLabs/spark-nlp-workshop/master/tutorials/Certification_Trainings/Public/data/holmes.txt\n"
      ]
    },
    {
      "cell_type": "code",
      "execution_count": null,
      "metadata": {
        "colab": {
          "background_save": true
        },
        "id": "6QAYTQruBT6E",
        "outputId": "d4859e07-c41d-4d34-ea6b-89f85a3ceffc"
      },
      "outputs": [
        {
          "name": "stdout",
          "output_type": "stream",
          "text": [
            "+--------------------------------------------------------------------------------------------------------------------------------------------------------------------------------------------------------------------------------------------------------------------------------------------------------------------------------------------------------------------------------------------------------------------------------------------------------------------------------------------------------------------------------------------------------------------------------------------------------------------------------------------------------------------------------------------------------------------------------------------------------------------------------------------------------------------------------+\n",
            "|                                                                                                                                                                                                                                                                                                                                                                                                                                                                                                                                                                                                                                                                                                                                                                                                                            text|\n",
            "+--------------------------------------------------------------------------------------------------------------------------------------------------------------------------------------------------------------------------------------------------------------------------------------------------------------------------------------------------------------------------------------------------------------------------------------------------------------------------------------------------------------------------------------------------------------------------------------------------------------------------------------------------------------------------------------------------------------------------------------------------------------------------------------------------------------------------------+\n",
            "|THE ADVENTURES OF SHERLOCK HOLMESArthur Conan Doyle Table of contents A Scandal in Bohemia The Red-Headed League A Case of Identity The Boscombe Valley Mystery The Five Orange Pips The Man with the Twisted Lip The Adventure of the Blue Carbuncle The Adventure of the Speckled Band The Adventure of the Engineer's Thumb The Adventure of the Noble Bachelor The Adventure of the Beryl Coronet The Adventure of the Copper Beeches A SCANDAL IN BOHEMIA Table of contents Chapter 1 Chapter 2 Chapter 3CHAPTER I To Sherlock Holmes she is always the woman. I have seldom heard him mention her under any other name. In his eyes she eclipses and predominates the whole of her sex. It was not that he felt any emotion akin to love for Irene Adler. All emotions, and that one particularly, were abhorrent to hi...|\n",
            "+--------------------------------------------------------------------------------------------------------------------------------------------------------------------------------------------------------------------------------------------------------------------------------------------------------------------------------------------------------------------------------------------------------------------------------------------------------------------------------------------------------------------------------------------------------------------------------------------------------------------------------------------------------------------------------------------------------------------------------------------------------------------------------------------------------------------------------+\n",
            "\n"
          ]
        }
      ],
      "source": [
        "path = \"holmes.txt\"\n",
        "\n",
        "corpus = spark.read.text(path).toDF(\"text\")\n",
        "corpus.show(truncate=800)"
      ]
    },
    {
      "cell_type": "code",
      "execution_count": null,
      "metadata": {
        "colab": {
          "background_save": true
        },
        "id": "DZr2l_a_Dro2"
      },
      "outputs": [],
      "source": [
        "documentAssembler = DocumentAssembler().setInputCol(\"text\").setOutputCol(\"document\")\n",
        "\n",
        "tokenizer = Tokenizer().setInputCols(\"document\").setOutputCol(\"token\")\n",
        "\n",
        "spellChecker = (\n",
        "    ContextSpellCheckerApproach()\n",
        "    .setInputCols(\"token\")\n",
        "    .setOutputCol(\"checked\")\n",
        "    .setBatchSize(1)\n",
        "    .setEpochs(1)\n",
        "    .setWordMaxDistance(3)\n",
        "    .setMaxWindowLen(3)\n",
        "    .setMinCount(3.0)\n",
        "    .setCompoundCount(3)\n",
        "    .setClassCount(5)\n",
        "\n",
        ")\n",
        "\n",
        "pipeline = Pipeline(stages=[documentAssembler, tokenizer, spellChecker])\n"
      ]
    },
    {
      "cell_type": "code",
      "execution_count": null,
      "metadata": {
        "colab": {
          "background_save": true
        },
        "id": "6wUcKBXkFQQF",
        "outputId": "89612653-a677-47d6-b6ab-bc767938f13d"
      },
      "outputs": [
        {
          "name": "stdout",
          "output_type": "stream",
          "text": [
            "requirement failed: We couldn't find any suitable graph for 2000 classes, vocabSize: 3094\n"
          ]
        }
      ],
      "source": [
        "try:\n",
        " model = pipeline.fit(corpus)\n",
        "\n",
        "except Exception as e:\n",
        " print(e)"
      ]
    },
    {
      "cell_type": "markdown",
      "metadata": {
        "id": "TcryYGyAKm5T"
      },
      "source": [
        "## Preparing the corpus for training\n",
        "We will use the SentenceDetector annotator to split the book into sentences. Then we will sample a number of sentences that Colab is able to process. As a deep learning model, it demands heavy computation during training. For big datasets, it is recommended to use spark clusters to train efficiently."
      ]
    },
    {
      "cell_type": "code",
      "execution_count": null,
      "metadata": {
        "colab": {
          "background_save": true
        },
        "id": "TuHLAfFCIK5A",
        "outputId": "9378e708-6b83-45f4-93b3-9e6462f33b6b"
      },
      "outputs": [
        {
          "data": {
            "text/plain": [
              "561"
            ]
          },
          "execution_count": 20,
          "metadata": {},
          "output_type": "execute_result"
        }
      ],
      "source": [
        "documentAssembler = DocumentAssembler().setInputCol(\"text\").setOutputCol(\"document\")\n",
        "\n",
        "sentenceDetector = SentenceDetector().setInputCols(\"document\").setOutputCol(\"sentence\")\n",
        "\n",
        "sentences = sentenceDetector.transform(documentAssembler.transform(corpus))\n",
        "\n",
        "# Get 10% of the senteces only\n",
        "sample = sentences.select(F.explode(\"sentence.result\").alias(\"sentence\")).sample(fraction=0.1, seed=42)\n",
        "sample.count()\n",
        "\n"
      ]
    },
    {
      "cell_type": "markdown",
      "metadata": {
        "id": "2QNyUQbVMxJz"
      },
      "source": [
        "## Training the model\n",
        "Create a new pipeline to process this sample from the beginning (DocumentAssembler -> ContextSpellChecker)"
      ]
    },
    {
      "cell_type": "code",
      "execution_count": null,
      "metadata": {
        "colab": {
          "background_save": true
        },
        "id": "OEv_ZEw9Lnck"
      },
      "outputs": [],
      "source": [
        "\n",
        "# Note that we se `sentence` as input column name\n",
        "documentAssembler = DocumentAssembler().setInputCol(\"sentence\").setOutputCol(\"document\")\n",
        "\n",
        "tokenizer = Tokenizer().setInputCols(\"document\").setOutputCol(\"token\")\n",
        "\n",
        "spellChecker = (\n",
        "    ContextSpellCheckerApproach()\n",
        "    .setInputCols(\"token\")\n",
        "    .setOutputCol(\"checked\")\n",
        "    .setBatchSize(1) # Batch size 1 to run in Colab\n",
        "    .setEpochs(1)\n",
        "    .setWordMaxDistance(3) # Maximum edit distance to consider\n",
        "    .setMaxWindowLen(3) # important to find context\n",
        "    .setMinCount(3.0) # Removes words that appear less than that from the vocabulary\n",
        "    .setCompoundCount(5) # Removes compound words that appear less than that from the vocabulary\n",
        "    .setClassCount(10.0) # Minimun occurrences of a class\n",
        "    .setLanguageModelClasses(1650) # Value taht we have a TF graph available\n",
        ")\n",
        "\n",
        "pipeline = Pipeline(stages=[documentAssembler, tokenizer, spellChecker])"
      ]
    },
    {
      "cell_type": "code",
      "execution_count": null,
      "metadata": {
        "id": "ZNvxUvidL3iL"
      },
      "outputs": [],
      "source": [
        "\n",
        "%%time\n",
        "try:\n",
        "  model = pipeline.fit(sample)\n",
        "except Exception as e:\n",
        "  print(e)"
      ]
    },
    {
      "cell_type": "code",
      "execution_count": null,
      "metadata": {
        "id": "b5IFUaunNBTI"
      },
      "outputs": [],
      "source": [
        "lp = LightPipeline(model)\n",
        "\n",
        "test = lp.annotate(\"Sherlok Hlmes founds the solution to the mistrey\")\n",
        "\n",
        "for token, checked in zip(test[\"token\"], test[\"checked\"]):\n",
        "  print(f\"{token} => {checked}\")\n",
        "\n"
      ]
    },
    {
      "cell_type": "code",
      "execution_count": null,
      "metadata": {
        "id": "9iiJpBM9NzS-"
      },
      "outputs": [],
      "source": []
    }
  ],
  "metadata": {
    "accelerator": "GPU",
    "colab": {
      "gpuType": "L4",
      "provenance": []
    },
    "kernelspec": {
      "display_name": "Python 3",
      "name": "python3"
    },
    "language_info": {
      "name": "python"
    }
  },
  "nbformat": 4,
  "nbformat_minor": 0
}