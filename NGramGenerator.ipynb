{
  "nbformat": 4,
  "nbformat_minor": 0,
  "metadata": {
    "colab": {
      "provenance": []
    },
    "kernelspec": {
      "name": "python3",
      "display_name": "Python 3"
    },
    "language_info": {
      "name": "python"
    }
  },
  "cells": [
    {
      "cell_type": "code",
      "execution_count": 1,
      "metadata": {
        "colab": {
          "base_uri": "https://localhost:8080/"
        },
        "id": "wSiiI3vtBulI",
        "outputId": "b32807d8-2b43-4cde-a35c-4d45b36e16c1"
      },
      "outputs": [
        {
          "output_type": "stream",
          "name": "stdout",
          "text": [
            "\u001b[2K     \u001b[90m━━━━━━━━━━━━━━━━━━━━━━━━━━━━━━━━━━━━━━━━\u001b[0m \u001b[32m317.3/317.3 MB\u001b[0m \u001b[31m3.9 MB/s\u001b[0m eta \u001b[36m0:00:00\u001b[0m\n",
            "\u001b[?25h  Preparing metadata (setup.py) ... \u001b[?25l\u001b[?25hdone\n",
            "\u001b[2K     \u001b[90m━━━━━━━━━━━━━━━━━━━━━━━━━━━━━━━━━━━━━━━━\u001b[0m \u001b[32m55.6/55.6 kB\u001b[0m \u001b[31m2.4 MB/s\u001b[0m eta \u001b[36m0:00:00\u001b[0m\n",
            "\u001b[2K   \u001b[90m━━━━━━━━━━━━━━━━━━━━━━━━━━━━━━━━━━━━━━━━\u001b[0m \u001b[32m579.5/579.5 kB\u001b[0m \u001b[31m24.3 MB/s\u001b[0m eta \u001b[36m0:00:00\u001b[0m\n",
            "\u001b[?25h  Building wheel for pyspark (setup.py) ... \u001b[?25l\u001b[?25hdone\n"
          ]
        }
      ],
      "source": [
        "!pip install -q pyspark spark-nlp"
      ]
    },
    {
      "cell_type": "code",
      "source": [
        "import sparknlp\n",
        "from sparknlp.base import *\n",
        "from sparknlp.annotator import *\n",
        "from pyspark.ml import Pipeline\n",
        "from pyspark.sql import functions as F\n",
        "from pyspark.sql.types import StringType\n",
        "\n",
        "spark = sparknlp.start()\n",
        "spark"
      ],
      "metadata": {
        "colab": {
          "base_uri": "https://localhost:8080/",
          "height": 219
        },
        "id": "XJOFXGnWB6jq",
        "outputId": "16f368d2-02de-4e9c-da54-3129b9343b4d"
      },
      "execution_count": 2,
      "outputs": [
        {
          "output_type": "execute_result",
          "data": {
            "text/plain": [
              "<pyspark.sql.session.SparkSession at 0x7b989d921450>"
            ],
            "text/html": [
              "\n",
              "            <div>\n",
              "                <p><b>SparkSession - in-memory</b></p>\n",
              "                \n",
              "        <div>\n",
              "            <p><b>SparkContext</b></p>\n",
              "\n",
              "            <p><a href=\"http://052fff8dada8:4040\">Spark UI</a></p>\n",
              "\n",
              "            <dl>\n",
              "              <dt>Version</dt>\n",
              "                <dd><code>v3.5.2</code></dd>\n",
              "              <dt>Master</dt>\n",
              "                <dd><code>local[*]</code></dd>\n",
              "              <dt>AppName</dt>\n",
              "                <dd><code>Spark NLP</code></dd>\n",
              "            </dl>\n",
              "        </div>\n",
              "        \n",
              "            </div>\n",
              "        "
            ]
          },
          "metadata": {},
          "execution_count": 2
        }
      ]
    },
    {
      "cell_type": "markdown",
      "source": [
        "## setN"
      ],
      "metadata": {
        "id": "5Mh7OLFGCjol"
      }
    },
    {
      "cell_type": "code",
      "source": [
        "documentAssembler = DocumentAssembler() \\\n",
        "    .setInputCol(\"text\") \\\n",
        "    .setOutputCol(\"document\")\n",
        "\n",
        "tokenizer = Tokenizer() \\\n",
        "    .setInputCols([\"document\"]) \\\n",
        "    .setOutputCol(\"token\")\n",
        "\n",
        "bigrams = NGramGenerator() \\\n",
        ".setInputCols([\"token\"]) \\\n",
        ".setOutputCol(\"bigrams\") \\\n",
        ".setN(2)\n",
        "\n",
        "trigrams = NGramGenerator() \\\n",
        ".setInputCols([\"token\"]) \\\n",
        ".setOutputCol(\"trigrams\") \\\n",
        ".setN(3)\n",
        "\n",
        "pipeline = Pipeline(stages=[documentAssembler, tokenizer, bigrams, trigrams])\n",
        "\n",
        "data = spark.createDataFrame([\n",
        "    \"Cloud computing is benefiting major manufacturing companies\",\n",
        "    \"Big data cloud computing cyber security machine learning\"\n",
        "], StringType()).toDF(\"text\")\n",
        "\n",
        "result = pipeline.fit(data).transform(data)\n"
      ],
      "metadata": {
        "id": "xho3S9mUCYUz"
      },
      "execution_count": 3,
      "outputs": []
    },
    {
      "cell_type": "code",
      "source": [
        "result.select(\"bigrams.result\").show(2, truncate=False)"
      ],
      "metadata": {
        "colab": {
          "base_uri": "https://localhost:8080/"
        },
        "id": "XQPoqZ51DrPK",
        "outputId": "3b728385-1bd8-4640-f556-4dcb8441898a"
      },
      "execution_count": 5,
      "outputs": [
        {
          "output_type": "stream",
          "name": "stdout",
          "text": [
            "+--------------------------------------------------------------------------------------------------------------+\n",
            "|result                                                                                                        |\n",
            "+--------------------------------------------------------------------------------------------------------------+\n",
            "|[Cloud computing, computing is, is benefiting, benefiting major, major manufacturing, manufacturing companies]|\n",
            "|[Big data, data cloud, cloud computing, computing cyber, cyber security, security machine, machine learning]  |\n",
            "+--------------------------------------------------------------------------------------------------------------+\n",
            "\n"
          ]
        }
      ]
    },
    {
      "cell_type": "code",
      "source": [
        "result.select(\"trigrams.result\").show(truncate=False)"
      ],
      "metadata": {
        "colab": {
          "base_uri": "https://localhost:8080/"
        },
        "id": "ZkpvgX7WD0Mg",
        "outputId": "a133b678-0e11-486c-a8f6-e0ea21d84708"
      },
      "execution_count": 11,
      "outputs": [
        {
          "output_type": "stream",
          "name": "stdout",
          "text": [
            "+------------------------------------------------------------------------------------------------------------------------------------------+\n",
            "|result                                                                                                                                    |\n",
            "+------------------------------------------------------------------------------------------------------------------------------------------+\n",
            "|[Cloud computing is, computing is benefiting, is benefiting major, benefiting major manufacturing, major manufacturing companies]         |\n",
            "|[Big data cloud, data cloud computing, cloud computing cyber, computing cyber security, cyber security machine, security machine learning]|\n",
            "+------------------------------------------------------------------------------------------------------------------------------------------+\n",
            "\n"
          ]
        }
      ]
    },
    {
      "cell_type": "markdown",
      "source": [
        "## setEnableCumulative"
      ],
      "metadata": {
        "id": "jTwzEsLBEh0e"
      }
    },
    {
      "cell_type": "code",
      "source": [
        "trigrams.setEnableCumulative(True)"
      ],
      "metadata": {
        "colab": {
          "base_uri": "https://localhost:8080/"
        },
        "id": "4TorpX04EBuZ",
        "outputId": "8a43f9e7-01d9-4b45-f0f4-072e01fa1cb3"
      },
      "execution_count": 12,
      "outputs": [
        {
          "output_type": "execute_result",
          "data": {
            "text/plain": [
              "NGramGenerator_952ce417c8e1"
            ]
          },
          "metadata": {},
          "execution_count": 12
        }
      ]
    },
    {
      "cell_type": "code",
      "source": [
        "data = spark.createDataFrame([\n",
        "    \"Cloud computing is benefiting major manufacturing companies\",\n",
        "    \"Big data cloud computing cyber security machine learning\"\n",
        "], StringType()).toDF(\"text\")\n",
        "\n",
        "result = pipeline.fit(data).transform(data)"
      ],
      "metadata": {
        "id": "fGoiB5eRE3oZ"
      },
      "execution_count": 13,
      "outputs": []
    },
    {
      "cell_type": "code",
      "source": [
        "result.select(\"trigrams.result\").show(2, truncate=False)"
      ],
      "metadata": {
        "colab": {
          "base_uri": "https://localhost:8080/"
        },
        "id": "M8g-65gOE7NP",
        "outputId": "f3319c2a-ae14-403a-b2db-d729dfa7bfe4"
      },
      "execution_count": 14,
      "outputs": [
        {
          "output_type": "stream",
          "name": "stdout",
          "text": [
            "+-----------------------------------------------------------------------------------------------------------------------------------------------------------------------------------------------------------------------------------------------------------------------------------------------------------------------+\n",
            "|result                                                                                                                                                                                                                                                                                                                 |\n",
            "+-----------------------------------------------------------------------------------------------------------------------------------------------------------------------------------------------------------------------------------------------------------------------------------------------------------------------+\n",
            "|[Cloud, computing, is, benefiting, major, manufacturing, companies, Cloud computing, computing is, is benefiting, benefiting major, major manufacturing, manufacturing companies, Cloud computing is, computing is benefiting, is benefiting major, benefiting major manufacturing, major manufacturing companies]     |\n",
            "|[Big, data, cloud, computing, cyber, security, machine, learning, Big data, data cloud, cloud computing, computing cyber, cyber security, security machine, machine learning, Big data cloud, data cloud computing, cloud computing cyber, computing cyber security, cyber security machine, security machine learning]|\n",
            "+-----------------------------------------------------------------------------------------------------------------------------------------------------------------------------------------------------------------------------------------------------------------------------------------------------------------------+\n",
            "\n"
          ]
        }
      ]
    },
    {
      "cell_type": "markdown",
      "source": [
        "## setDelimiter"
      ],
      "metadata": {
        "id": "ZvKBgIFMFM5P"
      }
    },
    {
      "cell_type": "code",
      "source": [
        "bigrams.setDelimiter(\"/\")"
      ],
      "metadata": {
        "colab": {
          "base_uri": "https://localhost:8080/"
        },
        "id": "9C1PL2UgE-cx",
        "outputId": "5b445def-4bb9-4cb6-c631-0738fe76c39d"
      },
      "execution_count": 15,
      "outputs": [
        {
          "output_type": "execute_result",
          "data": {
            "text/plain": [
              "NGramGenerator_b5837da0873e"
            ]
          },
          "metadata": {},
          "execution_count": 15
        }
      ]
    },
    {
      "cell_type": "code",
      "source": [
        "data = spark.createDataFrame([\n",
        "    \"Cloud computing is benefiting major manufacturing companies\",\n",
        "], StringType()).toDF(\"text\")\n",
        "\n",
        "result = pipeline.fit(data).transform(data)"
      ],
      "metadata": {
        "id": "7t2feSpoFX4f"
      },
      "execution_count": 16,
      "outputs": []
    },
    {
      "cell_type": "code",
      "source": [
        "result.select(\"bigrams.result\").show(truncate=False)"
      ],
      "metadata": {
        "colab": {
          "base_uri": "https://localhost:8080/"
        },
        "id": "-sMgp9-nFavn",
        "outputId": "09887846-3047-4651-a44c-24cbc05dff76"
      },
      "execution_count": 17,
      "outputs": [
        {
          "output_type": "stream",
          "name": "stdout",
          "text": [
            "+--------------------------------------------------------------------------------------------------------------+\n",
            "|result                                                                                                        |\n",
            "+--------------------------------------------------------------------------------------------------------------+\n",
            "|[Cloud/computing, computing/is, is/benefiting, benefiting/major, major/manufacturing, manufacturing/companies]|\n",
            "+--------------------------------------------------------------------------------------------------------------+\n",
            "\n"
          ]
        }
      ]
    },
    {
      "cell_type": "code",
      "source": [],
      "metadata": {
        "id": "dRMVDTqUFd__"
      },
      "execution_count": null,
      "outputs": []
    }
  ]
}