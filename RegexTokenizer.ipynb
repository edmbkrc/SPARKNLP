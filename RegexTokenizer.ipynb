{
  "nbformat": 4,
  "nbformat_minor": 0,
  "metadata": {
    "colab": {
      "provenance": []
    },
    "kernelspec": {
      "name": "python3",
      "display_name": "Python 3"
    },
    "language_info": {
      "name": "python"
    }
  },
  "cells": [
    {
      "cell_type": "code",
      "execution_count": 1,
      "metadata": {
        "colab": {
          "base_uri": "https://localhost:8080/"
        },
        "id": "Enj_0TOHrfxG",
        "outputId": "d2dd9843-c1b7-48d5-b827-4eea2550b497"
      },
      "outputs": [
        {
          "output_type": "stream",
          "name": "stdout",
          "text": [
            "Collecting pyspark\n",
            "  Downloading pyspark-3.5.3.tar.gz (317.3 MB)\n",
            "\u001b[2K     \u001b[90m━━━━━━━━━━━━━━━━━━━━━━━━━━━━━━━━━━━━━━━━\u001b[0m \u001b[32m317.3/317.3 MB\u001b[0m \u001b[31m4.6 MB/s\u001b[0m eta \u001b[36m0:00:00\u001b[0m\n",
            "\u001b[?25h  Preparing metadata (setup.py) ... \u001b[?25l\u001b[?25hdone\n",
            "Collecting spark-nlp\n",
            "  Downloading spark_nlp-5.5.0-py2.py3-none-any.whl.metadata (19 kB)\n",
            "Requirement already satisfied: py4j==0.10.9.7 in /usr/local/lib/python3.10/dist-packages (from pyspark) (0.10.9.7)\n",
            "Downloading spark_nlp-5.5.0-py2.py3-none-any.whl (620 kB)\n",
            "\u001b[2K   \u001b[90m━━━━━━━━━━━━━━━━━━━━━━━━━━━━━━━━━━━━━━━━\u001b[0m \u001b[32m620.8/620.8 kB\u001b[0m \u001b[31m25.6 MB/s\u001b[0m eta \u001b[36m0:00:00\u001b[0m\n",
            "\u001b[?25hBuilding wheels for collected packages: pyspark\n",
            "  Building wheel for pyspark (setup.py) ... \u001b[?25l\u001b[?25hdone\n",
            "  Created wheel for pyspark: filename=pyspark-3.5.3-py2.py3-none-any.whl size=317840625 sha256=93bea76f13fd3bbb932724dbb74fe23d53a3f244fc3e359a6c14ee6ee4464f43\n",
            "  Stored in directory: /root/.cache/pip/wheels/1b/3a/92/28b93e2fbfdbb07509ca4d6f50c5e407f48dce4ddbda69a4ab\n",
            "Successfully built pyspark\n",
            "Installing collected packages: spark-nlp, pyspark\n",
            "Successfully installed pyspark-3.5.3 spark-nlp-5.5.0\n"
          ]
        }
      ],
      "source": [
        "!pip install pyspark spark-nlp"
      ]
    },
    {
      "cell_type": "code",
      "source": [
        "import sparknlp\n",
        "from sparknlp.base import *\n",
        "from sparknlp.annotator import *\n",
        "from pyspark.ml import Pipeline\n",
        "\n",
        "spark = sparknlp.start()"
      ],
      "metadata": {
        "id": "x0BeEQCProVh"
      },
      "execution_count": 2,
      "outputs": []
    },
    {
      "cell_type": "code",
      "source": [
        "from pyspark.sql.types import StringType\n",
        "\n",
        "content = \"1. T1-T2 DATE**[12/24/13] $1.99 () (10/12) ph+ 90%\"\n",
        "\n",
        "df = spark.createDataFrame([content], StringType()).withColumnRenamed(\"value\", \"text\")\n",
        "\n",
        "df.show(truncate=False)"
      ],
      "metadata": {
        "colab": {
          "base_uri": "https://localhost:8080/"
        },
        "id": "FKyM0EXwrvcW",
        "outputId": "51e08427-5a92-4b04-8b3a-54012743d2e4"
      },
      "execution_count": 4,
      "outputs": [
        {
          "output_type": "stream",
          "name": "stdout",
          "text": [
            "+--------------------------------------------------+\n",
            "|text                                              |\n",
            "+--------------------------------------------------+\n",
            "|1. T1-T2 DATE**[12/24/13] $1.99 () (10/12) ph+ 90%|\n",
            "+--------------------------------------------------+\n",
            "\n"
          ]
        }
      ]
    },
    {
      "cell_type": "code",
      "source": [
        "pattern = '\\\\s+|(?=[-.:;\"*+,$&?!%\\\\[\\\\]\\\\(\\\\)\\\\/])|(?<=[-.:;\"*+,$&?!%\\\\[\\\\]\\\\(\\\\)\\\\/])'\n",
        "\n",
        "documenter = DocumentAssembler()\\\n",
        "    .setInputCol(\"text\")\\\n",
        "    .setOutputCol(\"document\")\n",
        "\n",
        "sentencer = SentenceDetector()\\\n",
        "    .setInputCols([\"document\"])\\\n",
        "    .setOutputCol(\"sentence\")\\\n",
        "\n",
        "tokenizer = RegexTokenizer()\\\n",
        "    .setInputCols([\"sentence\"])\\\n",
        "    .setOutputCol(\"RegexToken\")\n",
        "\n",
        "regex_tokenizer = RegexTokenizer()\\\n",
        "    .setInputCols([\"sentence\"])\\\n",
        "    .setOutputCol(\"Regextoken_with_pattern\")\\\n",
        "    .setPattern(pattern)\\\n",
        "\n",
        "pipeline = Pipeline(stages=[documenter, sentencer, tokenizer, regex_tokenizer])\n",
        "\n",
        "result = pipeline.fit(df).transform(df)\n",
        "\n",
        "result.selectExpr(\"RegexToken.result as Regextoken\", \"Regextoken_with_pattern.result as Regextoken_with_pattern\").show(truncate=False)\n"
      ],
      "metadata": {
        "colab": {
          "base_uri": "https://localhost:8080/"
        },
        "id": "zFxvvzoxr2qv",
        "outputId": "e54db2ac-57e9-4970-d19c-baf8d7ecc38c"
      },
      "execution_count": 8,
      "outputs": [
        {
          "output_type": "stream",
          "name": "stdout",
          "text": [
            "+-----------------------------------------------------------+-------------------------------------------------------------------------------------------------------+\n",
            "|Regextoken                                                 |Regextoken_with_pattern                                                                                |\n",
            "+-----------------------------------------------------------+-------------------------------------------------------------------------------------------------------+\n",
            "|[1., T1-T2, DATE**[12/24/13], $1.99, (), (10/12), ph+, 90%]|[1, ., T1, -, T2, DATE, *, *, [, 12, /, 24, /, 13, ], $, 1, ., 99, (, ), (, 10, /, 12, ), ph, +, 90, %]|\n",
            "+-----------------------------------------------------------+-------------------------------------------------------------------------------------------------------+\n",
            "\n"
          ]
        }
      ]
    },
    {
      "cell_type": "markdown",
      "source": [
        "Regextokenizer created the tokens by dividing using \"/s+\" when no pattern was given. When a pattern was given to the setPattern parameter, it performed the separation using that pattern."
      ],
      "metadata": {
        "id": "gEeRCAbkvx59"
      }
    },
    {
      "cell_type": "code",
      "source": [
        "tokenizer.extractParamMap()"
      ],
      "metadata": {
        "colab": {
          "base_uri": "https://localhost:8080/"
        },
        "id": "3h4cERxXvI1D",
        "outputId": "93090e50-b98c-43c7-b727-29d9ca6e9e49"
      },
      "execution_count": 9,
      "outputs": [
        {
          "output_type": "execute_result",
          "data": {
            "text/plain": [
              "{Param(parent='RegexTokenizer_dac73b2b1c11', name='lazyAnnotator', doc='Whether this AnnotatorModel acts as lazy in RecursivePipelines'): False,\n",
              " Param(parent='RegexTokenizer_dac73b2b1c11', name='inputCols', doc='previous annotations columns, if renamed'): ['sentence'],\n",
              " Param(parent='RegexTokenizer_dac73b2b1c11', name='outputCol', doc='output annotation column. can be left default.'): 'RegexToken',\n",
              " Param(parent='RegexTokenizer_dac73b2b1c11', name='toLowercase', doc='Indicates whether to convert all characters to lowercase before tokenizing.'): False,\n",
              " Param(parent='RegexTokenizer_dac73b2b1c11', name='minLength', doc='Set the minimum allowed length for each token'): 1,\n",
              " Param(parent='RegexTokenizer_dac73b2b1c11', name='pattern', doc='regex pattern used for tokenizing. Defaults \\\\S+'): '\\\\s+',\n",
              " Param(parent='RegexTokenizer_dac73b2b1c11', name='positionalMask', doc='Using a positional mask to guarantee the incremental progression of the tokenization.'): False,\n",
              " Param(parent='RegexTokenizer_dac73b2b1c11', name='trimWhitespace', doc='Indicates whether to use a trimWhitespaces flag to remove whitespaces from identified tokens.'): False,\n",
              " Param(parent='RegexTokenizer_dac73b2b1c11', name='preservePosition', doc='Indicates whether to use a preserve initial indexes before eventual whitespaces removal in tokens.'): True}"
            ]
          },
          "metadata": {},
          "execution_count": 9
        }
      ]
    },
    {
      "cell_type": "code",
      "source": [
        "regex_tokenizer.extractParamMap()"
      ],
      "metadata": {
        "colab": {
          "base_uri": "https://localhost:8080/"
        },
        "id": "caj4UC9jv5zo",
        "outputId": "72ca6091-a6d9-4f96-e1f3-b4008303ee5d"
      },
      "execution_count": 12,
      "outputs": [
        {
          "output_type": "execute_result",
          "data": {
            "text/plain": [
              "{Param(parent='RegexTokenizer_a30e6dab1241', name='lazyAnnotator', doc='Whether this AnnotatorModel acts as lazy in RecursivePipelines'): False,\n",
              " Param(parent='RegexTokenizer_a30e6dab1241', name='inputCols', doc='previous annotations columns, if renamed'): ['sentence'],\n",
              " Param(parent='RegexTokenizer_a30e6dab1241', name='outputCol', doc='output annotation column. can be left default.'): 'Regextoken_with_pattern',\n",
              " Param(parent='RegexTokenizer_a30e6dab1241', name='toLowercase', doc='Indicates whether to convert all characters to lowercase before tokenizing.'): False,\n",
              " Param(parent='RegexTokenizer_a30e6dab1241', name='minLength', doc='Set the minimum allowed length for each token'): 1,\n",
              " Param(parent='RegexTokenizer_a30e6dab1241', name='pattern', doc='regex pattern used for tokenizing. Defaults \\\\S+'): '\\\\s+|(?=[-.:;\"*+,$&?!%\\\\[\\\\]\\\\(\\\\)\\\\/])|(?<=[-.:;\"*+,$&?!%\\\\[\\\\]\\\\(\\\\)\\\\/])',\n",
              " Param(parent='RegexTokenizer_a30e6dab1241', name='positionalMask', doc='Using a positional mask to guarantee the incremental progression of the tokenization.'): False,\n",
              " Param(parent='RegexTokenizer_a30e6dab1241', name='trimWhitespace', doc='Indicates whether to use a trimWhitespaces flag to remove whitespaces from identified tokens.'): False,\n",
              " Param(parent='RegexTokenizer_a30e6dab1241', name='preservePosition', doc='Indicates whether to use a preserve initial indexes before eventual whitespaces removal in tokens.'): True}"
            ]
          },
          "metadata": {},
          "execution_count": 12
        }
      ]
    },
    {
      "cell_type": "code",
      "source": [
        "regex_pattern = \"\"\"\\t\"\"\"\n",
        "sampleText = \"   Jack   \\t    registered \\t with \\t   id:7354632112   \\t    on    \\t      23/3/2022    \"\n",
        "\n",
        "df = spark.createDataFrame([[sampleText]]).toDF(\"text\")\n",
        "\n",
        "regex_tokenizer = RegexTokenizer()\\\n",
        "    .setInputCols(\"sentence\")\\\n",
        "    .setOutputCol(\"token\")\\\n",
        "    .setPattern(regex_pattern)\\\n",
        "    .setTrimWhitespace(False)\n",
        "\n",
        "pipeline = Pipeline(stages=[documenter, sentencer, tokenizer, regex_tokenizer])\n",
        "\n",
        "result = pipeline.fit(df).transform(df)\n",
        "result.selectExpr(\"token.result as Regextoken\").show(truncate=False)"
      ],
      "metadata": {
        "colab": {
          "base_uri": "https://localhost:8080/"
        },
        "id": "an_n_CHCv-WU",
        "outputId": "f4d4b20a-1e7f-4597-ae6b-8b39e1a088b4"
      },
      "execution_count": 16,
      "outputs": [
        {
          "output_type": "stream",
          "name": "stdout",
          "text": [
            "+------------------------------------------------------------------------------------+\n",
            "|Regextoken                                                                          |\n",
            "+------------------------------------------------------------------------------------+\n",
            "|[Jack   ,     registered ,  with ,    id:7354632112   ,     on    ,       23/3/2022]|\n",
            "+------------------------------------------------------------------------------------+\n",
            "\n"
          ]
        }
      ]
    },
    {
      "cell_type": "code",
      "source": [
        "regex_pattern = \"\"\"\\t\"\"\"\n",
        "sampleText = \"   Jack   \\t    registered \\t with \\t   id:7354632112   \\t    on    \\t      23/3/2022    \"\n",
        "\n",
        "df = spark.createDataFrame([[sampleText]]).toDF(\"text\")\n",
        "\n",
        "regex_tokenizer = RegexTokenizer()\\\n",
        "    .setInputCols(\"sentence\")\\\n",
        "    .setOutputCol(\"token\")\\\n",
        "    .setPattern(regex_pattern)\\\n",
        "    .setTrimWhitespace(True)\\\n",
        "    .setPreservePosition(False)\n",
        "\n",
        "pipeline = Pipeline(stages=[documenter, sentencer, tokenizer, regex_tokenizer])\n",
        "\n",
        "result = pipeline.fit(df).transform(df)\n",
        "result.selectExpr(\"token.result as Regextoken\", \"token.begin as Regextoken_begin\", \"token.end as Regextoken_end\").show(truncate=False)"
      ],
      "metadata": {
        "colab": {
          "base_uri": "https://localhost:8080/"
        },
        "id": "OzxiqyUlxQnJ",
        "outputId": "e6add887-97a1-4015-8de1-9a4ece358b86"
      },
      "execution_count": 18,
      "outputs": [
        {
          "output_type": "stream",
          "name": "stdout",
          "text": [
            "+------------------------------------------------------+-----------------------+-----------------------+\n",
            "|Regextoken                                            |Regextoken_begin       |Regextoken_end         |\n",
            "+------------------------------------------------------+-----------------------+-----------------------+\n",
            "|[Jack, registered, with, id:7354632112, on, 23/3/2022]|[3, 15, 28, 37, 58, 71]|[6, 24, 31, 49, 59, 79]|\n",
            "+------------------------------------------------------+-----------------------+-----------------------+\n",
            "\n"
          ]
        }
      ]
    },
    {
      "cell_type": "code",
      "source": [
        "regex_pattern = \"\"\"\\t\"\"\"\n",
        "sampleText = \"   Jack   \\t    registered \\t with \\t   id:7354632112   \\t    on    \\t      23/3/2022    \"\n",
        "\n",
        "df = spark.createDataFrame([[sampleText]]).toDF(\"text\")\n",
        "\n",
        "regex_tokenizer = RegexTokenizer()\\\n",
        "    .setInputCols(\"sentence\")\\\n",
        "    .setOutputCol(\"token\")\\\n",
        "    .setPattern(regex_pattern)\\\n",
        "    .setTrimWhitespace(True)\\\n",
        "    .setPreservePosition(True)\n",
        "\n",
        "pipeline = Pipeline(stages=[documenter, sentencer, tokenizer, regex_tokenizer])\n",
        "\n",
        "result = pipeline.fit(df).transform(df)\n",
        "result.selectExpr(\"token.result as Regextoken\", \"token.begin as Regextoken_begin\", \"token.end as Regextoken_end\").show(truncate=False)"
      ],
      "metadata": {
        "colab": {
          "base_uri": "https://localhost:8080/"
        },
        "id": "ipTVluZGxlE5",
        "outputId": "b5e71226-3887-4883-8442-084a37931cae"
      },
      "execution_count": 19,
      "outputs": [
        {
          "output_type": "stream",
          "name": "stdout",
          "text": [
            "+------------------------------------------------------+-----------------------+-----------------------+\n",
            "|Regextoken                                            |Regextoken_begin       |Regextoken_end         |\n",
            "+------------------------------------------------------+-----------------------+-----------------------+\n",
            "|[Jack, registered, with, id:7354632112, on, 23/3/2022]|[3, 11, 27, 34, 54, 65]|[9, 25, 32, 52, 63, 79]|\n",
            "+------------------------------------------------------+-----------------------+-----------------------+\n",
            "\n"
          ]
        }
      ]
    },
    {
      "cell_type": "code",
      "source": [
        "from pyspark.sql.types import StringType\n",
        "\n",
        "content = \"1. The investments made reached a value of £4.5Million, gaining __85.6% on DATE**[24/12/2022].\"\n",
        "pattern = \"\\\\s+|(?=[-:;*__+,$&\\\\[\\\\]])|(?<=[-:;*__+,$&\\\\[\\\\]])\"\n",
        "\n",
        "df = spark.createDataFrame([content], StringType()).withColumnRenamed(\"value\", \"text\")\n",
        "\n",
        "documenter = DocumentAssembler()\\\n",
        "    .setInputCol(\"text\")\\\n",
        "    .setOutputCol(\"document\")\n",
        "\n",
        "sentencer = SentenceDetector()\\\n",
        "    .setInputCols([\"document\"])\\\n",
        "    .setOutputCol(\"sentence\")\n",
        "\n",
        "\n",
        "regex_tokenizer = RegexTokenizer()\\\n",
        "    .setInputCols([\"sentence\"])\\\n",
        "    .setOutputCol(\"token\")\\\n",
        "    .setPattern(pattern)\\\n",
        "    .setToLowercase(True)\n",
        "\n",
        "pipeline = Pipeline(stages=[documenter, sentencer, regex_tokenizer])\n",
        "\n",
        "result = pipeline.fit(df).transform(df)\n",
        "result.selectExpr(\"sentence.result as sentence\",\"token.result as Regextoken\").show(truncate=False)"
      ],
      "metadata": {
        "colab": {
          "base_uri": "https://localhost:8080/"
        },
        "id": "JaATKhvxyFSQ",
        "outputId": "23efdf82-54db-4c87-a578-a3d13fd19b95"
      },
      "execution_count": 20,
      "outputs": [
        {
          "output_type": "stream",
          "name": "stdout",
          "text": [
            "+------------------------------------------------------------------------------------------------+------------------------------------------------------------------------------------------------------------------------------+\n",
            "|sentence                                                                                        |Regextoken                                                                                                                    |\n",
            "+------------------------------------------------------------------------------------------------+------------------------------------------------------------------------------------------------------------------------------+\n",
            "|[1. The investments made reached a value of £4.5Million, gaining __85.6% on DATE**[24/12/2022].]|[1., the, investments, made, reached, a, value, of, £4.5million, ,, gaining, _, _, 85.6%, on, date, *, *, [, 24/12/2022, ], .]|\n",
            "+------------------------------------------------------------------------------------------------+------------------------------------------------------------------------------------------------------------------------------+\n",
            "\n"
          ]
        }
      ]
    },
    {
      "cell_type": "code",
      "source": [
        "from pyspark.sql.types import StringType\n",
        "\n",
        "content = \"1. The investments made reached a value of £4.5Million, gaining __85.6% on DATE**[24/12/2022].\"\n",
        "pattern = \"\\\\s+|(?=[-:;*__+,$&\\\\[\\\\]])|(?<=[-:;*__+,$&\\\\[\\\\]])\"\n",
        "\n",
        "df = spark.createDataFrame([content], StringType()).withColumnRenamed(\"value\", \"text\")\n",
        "\n",
        "documenter = DocumentAssembler()\\\n",
        "    .setInputCol(\"text\")\\\n",
        "    .setOutputCol(\"document\")\n",
        "\n",
        "sentencer = SentenceDetector()\\\n",
        "    .setInputCols([\"document\"])\\\n",
        "    .setOutputCol(\"sentence\")\n",
        "\n",
        "\n",
        "regex_tokenizer = RegexTokenizer()\\\n",
        "    .setInputCols([\"sentence\"])\\\n",
        "    .setOutputCol(\"token\")\\\n",
        "    .setPattern(pattern)\\\n",
        "    .setToLowercase(True)\\\n",
        "    .setMaxLength(6)\\\n",
        "    .setMinLength(3)\n",
        "\n",
        "pipeline = Pipeline(stages=[documenter, sentencer, regex_tokenizer])\n",
        "\n",
        "result = pipeline.fit(df).transform(df)\n",
        "result.selectExpr(\"sentence.result as sentence\",\"token.result as Regextoken\").show(truncate=False)"
      ],
      "metadata": {
        "colab": {
          "base_uri": "https://localhost:8080/"
        },
        "id": "EVJqOKoxzDMl",
        "outputId": "4f756d9c-5914-4e4f-8bf5-9f135c26792d"
      },
      "execution_count": 22,
      "outputs": [
        {
          "output_type": "stream",
          "name": "stdout",
          "text": [
            "+------------------------------------------------------------------------------------------------+-------------------------------+\n",
            "|sentence                                                                                        |Regextoken                     |\n",
            "+------------------------------------------------------------------------------------------------+-------------------------------+\n",
            "|[1. The investments made reached a value of £4.5Million, gaining __85.6% on DATE**[24/12/2022].]|[the, made, value, 85.6%, date]|\n",
            "+------------------------------------------------------------------------------------------------+-------------------------------+\n",
            "\n"
          ]
        }
      ]
    },
    {
      "cell_type": "code",
      "source": [],
      "metadata": {
        "id": "M3Bs2YJ3zfr9"
      },
      "execution_count": null,
      "outputs": []
    }
  ]
}